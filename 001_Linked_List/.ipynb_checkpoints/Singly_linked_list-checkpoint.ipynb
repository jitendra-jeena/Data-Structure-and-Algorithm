{
 "cells": [
  {
   "cell_type": "markdown",
   "metadata": {},
   "source": [
    "# Singly Linked List"
   ]
  },
  {
   "cell_type": "markdown",
   "metadata": {},
   "source": [
    "In this linked list, each node in the list is connected only to the next node in the list."
   ]
  },
  {
   "cell_type": "code",
   "execution_count": 1,
   "metadata": {},
   "outputs": [],
   "source": [
    "class Node:\n",
    "    \"\"\"\n",
    "        class to represent each node of the linked list\n",
    "    \n",
    "    \"\"\"\n",
    "    \n",
    "    def __init__(self,value):\n",
    "        \"\"\"\n",
    "            value:- contains the value to be stored in the node.\n",
    "            next:- contains a reference to the next node on the list.\n",
    "        \"\"\"\n",
    "        self.value = value\n",
    "        self.next = None\n",
    "        \n",
    "    def __repr__(self):\n",
    "        return self.data"
   ]
  },
  {
   "cell_type": "code",
   "execution_count": 186,
   "metadata": {},
   "outputs": [],
   "source": [
    "class LinkedList:\n",
    "    \"\"\"\n",
    "        class to represent the linked list and perform basic operations\n",
    "       \n",
    "    \"\"\"\n",
    "    \n",
    "    def __init__(self,nodes = None):\n",
    "        self.head = None\n",
    "        \n",
    "        #Creating Linked List from list \n",
    "        if nodes is not None:\n",
    "            \n",
    "            #Head is pointing to the first element of the array\n",
    "            node = Node(value = nodes.pop(0))\n",
    "            self.head = node\n",
    "            \n",
    "            #Establishing connection of head to other elements\n",
    "            for element in nodes:\n",
    "                node.next = Node(value = element)\n",
    "                node = node.next\n",
    "                \n",
    "    \n",
    "    def prepend(self,value):\n",
    "        \"\"\"\n",
    "            Adding element in the first position\n",
    "            Or Adding to the head of the list\n",
    "        \"\"\"\n",
    "        node = Node(value)\n",
    "        node.next = self.head\n",
    "        self.head = node\n",
    "   \n",
    "    def append(self,value):\n",
    "        \"\"\"\n",
    "            Adding element at the end of the list\n",
    "            value : the value to be inserted at the end of linked list\n",
    "            \"\"\"\n",
    "        node = Node(value)\n",
    "        #Checking if linked List exists\n",
    "        if not self.head:\n",
    "            self.head = node\n",
    "            return\n",
    "        \n",
    "        ## Move to the tail (the last node)\n",
    "        for current_node in self:\n",
    "            pass\n",
    "        current_node.next = node\n",
    "        \n",
    "    def length(self):\n",
    "        \"\"\"\n",
    "            Returns the length of the Linked List\n",
    "        \"\"\"\n",
    "        node = self.head\n",
    "        count = 0\n",
    "        \n",
    "        #Move to the end of the list\n",
    "        while node is not None:\n",
    "            node= node.next\n",
    "            count+=1\n",
    "        return count\n",
    "        \n",
    "    def insert(self,value,pos):\n",
    "        \"\"\"\n",
    "            Insert value at pos position in the list. If pos is larger than the\n",
    "            length of the list, append to the end of the list.\n",
    "        \"\"\"\n",
    "        #Insertion at beginning\n",
    "        if pos == 0:\n",
    "            self.prepend(value)\n",
    "            \n",
    "        #Insertion at end\n",
    "        elif pos >= self.length():\n",
    "            self.append(value)\n",
    "            \n",
    "        #Insertion in between\n",
    "        elif pos>0:\n",
    "            count  = 1\n",
    "            node = Node(value)      #Node to be insetred\n",
    "            start = self.head       #Pointing to the head\n",
    "            \n",
    "            # Moving to the previous, to insertion, position\n",
    "            while count < pos:\n",
    "                start = start.next\n",
    "                count+=1\n",
    "                \n",
    "            #start point to the node after which the value is to be inserted\n",
    "            #Store the  node before which value is to be inserted in a temp var\n",
    "            temp = start.next\n",
    "            start.next =node\n",
    "            node.next = temp\n",
    "            \n",
    "        else:\n",
    "            raise Exception(\"Invalid Index\")\n",
    "            \n",
    "            \n",
    "    def remove(self,value):\n",
    "        \"\"\"\n",
    "            Remove the first occurence of the value\n",
    "            Returns position of the node if value is found\n",
    "            Else raise an Exception\n",
    "        \"\"\"\n",
    "        if not self.head:\n",
    "            raise Exception(\"List is Empty\")\n",
    "        \n",
    "        \n",
    "        \n",
    "        #if Node to be deleted is the head node\n",
    "        if self.head.value == value:\n",
    "            self.head = self.head.next\n",
    "            return 0\n",
    "        pos = 0\n",
    "        \n",
    "        prev_node= self.head\n",
    "        \n",
    "        for node in self:\n",
    "            pos+=1\n",
    "            if node.value == value:\n",
    "                prev_node.next = node.next\n",
    "                return pos\n",
    "            prev_node = node\n",
    "            \n",
    "        raise Exception(\"Node with value {} not found..\".format(value))\n",
    "        \n",
    "    def to_list(self):\n",
    "        \"\"\"\n",
    "            Convert the linked list to list\n",
    "        \"\"\"\n",
    "        out = []\n",
    "        node = self.head\n",
    "        for node in self:\n",
    "            out.append(node.value)\n",
    "           \n",
    "        return out           \n",
    "        \n",
    "    def __repr__(self):\n",
    "        \n",
    "        node = self.head\n",
    "        nodes = []\n",
    "        while node is not None:\n",
    "            nodes.append(node.value)\n",
    "            node = node.next\n",
    "            \n",
    "        nodes.append(\"None\")\n",
    "        #Convert each element to string for better represenation\n",
    "        nodes = [str(i) for i in nodes]\n",
    "        return \" -> \".join(nodes)\n",
    "    \n",
    "    def __iter__(self):\n",
    "        \"\"\"\n",
    "            Traversing the linked list \n",
    "        \"\"\"\n",
    "        node = self.head\n",
    "        while node is not None:\n",
    "            yield node\n",
    "            node = node.next"
   ]
  },
  {
   "cell_type": "markdown",
   "metadata": {},
   "source": [
    "###  Creating the LinkedList from a list\n"
   ]
  },
  {
   "cell_type": "code",
   "execution_count": 194,
   "metadata": {},
   "outputs": [
    {
     "data": {
      "text/plain": [
       "a -> b -> c -> d -> e -> 1 -> 2 -> 3 -> 1.23 -> None"
      ]
     },
     "execution_count": 194,
     "metadata": {},
     "output_type": "execute_result"
    }
   ],
   "source": [
    "linked_list = LinkedList([\"a\",\"b\",\"c\",\"d\",\"e\",1,2,3,1.23])\n",
    "linked_list"
   ]
  },
  {
   "cell_type": "markdown",
   "metadata": {},
   "source": [
    "### Inserting at the beginning "
   ]
  },
  {
   "cell_type": "code",
   "execution_count": 195,
   "metadata": {},
   "outputs": [
    {
     "data": {
      "text/plain": [
       "first -> a -> b -> c -> d -> e -> 1 -> 2 -> 3 -> 1.23 -> None"
      ]
     },
     "execution_count": 195,
     "metadata": {},
     "output_type": "execute_result"
    }
   ],
   "source": [
    "linked_list.prepend(\"first\")\n",
    "\n",
    "linked_list"
   ]
  },
  {
   "cell_type": "markdown",
   "metadata": {},
   "source": [
    "### Inserting at the end"
   ]
  },
  {
   "cell_type": "code",
   "execution_count": 196,
   "metadata": {},
   "outputs": [
    {
     "data": {
      "text/plain": [
       "first -> a -> b -> c -> d -> e -> 1 -> 2 -> 3 -> 1.23 -> last -> None"
      ]
     },
     "execution_count": 196,
     "metadata": {},
     "output_type": "execute_result"
    }
   ],
   "source": [
    "linked_list.append(\"last\")\n",
    "linked_list"
   ]
  },
  {
   "cell_type": "markdown",
   "metadata": {},
   "source": [
    "### Inserting at a specific position say 3"
   ]
  },
  {
   "cell_type": "code",
   "execution_count": 197,
   "metadata": {},
   "outputs": [
    {
     "data": {
      "text/plain": [
       "first -> a -> b -> between -> c -> d -> e -> 1 -> 2 -> 3 -> 1.23 -> last -> None"
      ]
     },
     "execution_count": 197,
     "metadata": {},
     "output_type": "execute_result"
    }
   ],
   "source": [
    "linked_list.insert(\"between\",3)\n",
    "linked_list"
   ]
  },
  {
   "cell_type": "markdown",
   "metadata": {},
   "source": [
    "### Length of the LinkedList"
   ]
  },
  {
   "cell_type": "code",
   "execution_count": 198,
   "metadata": {},
   "outputs": [
    {
     "data": {
      "text/plain": [
       "12"
      ]
     },
     "execution_count": 198,
     "metadata": {},
     "output_type": "execute_result"
    }
   ],
   "source": [
    "linked_list.length()"
   ]
  },
  {
   "cell_type": "markdown",
   "metadata": {},
   "source": [
    "### Remove element from the LinkedList"
   ]
  },
  {
   "cell_type": "code",
   "execution_count": 199,
   "metadata": {},
   "outputs": [
    {
     "name": "stdout",
     "output_type": "stream",
     "text": [
      "Successfully deleted from pos 5\n"
     ]
    }
   ],
   "source": [
    "pos = linked_list.remove(\"c\")\n",
    "print(\"Successfully deleted from pos {}\".format(pos))"
   ]
  },
  {
   "cell_type": "markdown",
   "metadata": {},
   "source": [
    "### Convert the linked list to list"
   ]
  },
  {
   "cell_type": "code",
   "execution_count": 200,
   "metadata": {},
   "outputs": [
    {
     "data": {
      "text/plain": [
       "['first', 'a', 'b', 'between', 'd', 'e', 1, 2, 3, 1.23, 'last']"
      ]
     },
     "execution_count": 200,
     "metadata": {},
     "output_type": "execute_result"
    }
   ],
   "source": [
    "linked_list.to_list()"
   ]
  },
  {
   "cell_type": "markdown",
   "metadata": {},
   "source": [
    "## Test the implementation here\n"
   ]
  },
  {
   "cell_type": "code",
   "execution_count": 209,
   "metadata": {},
   "outputs": [],
   "source": [
    "\n",
    "# Test prepend\n",
    "linked_list = LinkedList()\n",
    "linked_list.prepend(1)\n",
    "assert linked_list.to_list() == [1], f\"list contents: {linked_list.to_list()}\"\n",
    "linked_list.append(3)\n",
    "linked_list.prepend(2)\n",
    "assert linked_list.to_list() == [2, 1, 3], f\"list contents: {linked_list.to_list()}\"\n",
    "    \n",
    "# Test append\n",
    "linked_list = LinkedList()\n",
    "linked_list.append(1)\n",
    "assert linked_list.to_list() == [1], f\"list contents: {linked_list.to_list()}\"\n",
    "linked_list.append(3)\n",
    "assert linked_list.to_list() == [1, 3], f\"list contents: {linked_list.to_list()}\"\n",
    "\n",
    "\n",
    "\n",
    "# Test insert \n",
    "linked_list.insert(5, 0)\n",
    "assert linked_list.to_list() == [5, 1, 3], f\"list contents: {linked_list.to_list()}\"\n",
    "linked_list.insert(2, 1)\n",
    "assert linked_list.to_list() == [5, 2, 1, 3], f\"list contents: {linked_list.to_list()}\"\n",
    "linked_list.insert(3, 6)\n",
    "assert linked_list.to_list() == [5, 2, 1, 3, 3], f\"list contents: {linked_list.to_list()}\"\n",
    "\n",
    "# Test length\n",
    "assert linked_list.length() == 5, f\"list contents: {linked_list.to_list()}\"\n",
    "\n",
    "# Test remove\n",
    "linked_list.remove(1)\n",
    "assert linked_list.to_list() == [5,2,3,3], f\"list contents: {linked_list.to_list()}\"\n",
    "linked_list.remove(3)\n",
    "assert linked_list.to_list() == [5,2, 3], f\"list contents: {linked_list.to_list()}\"\n",
    "linked_list.remove(3)\n",
    "assert linked_list.to_list() == [5,2], f\"list contents: {linked_list.to_list()}\"\n"
   ]
  },
  {
   "cell_type": "code",
   "execution_count": null,
   "metadata": {},
   "outputs": [],
   "source": []
  }
 ],
 "metadata": {
  "kernelspec": {
   "display_name": "Python 3",
   "language": "python",
   "name": "python3"
  },
  "language_info": {
   "codemirror_mode": {
    "name": "ipython",
    "version": 3
   },
   "file_extension": ".py",
   "mimetype": "text/x-python",
   "name": "python",
   "nbconvert_exporter": "python",
   "pygments_lexer": "ipython3",
   "version": "3.6.9"
  }
 },
 "nbformat": 4,
 "nbformat_minor": 2
}
